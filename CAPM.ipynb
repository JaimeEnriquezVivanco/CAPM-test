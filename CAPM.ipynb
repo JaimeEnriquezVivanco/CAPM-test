{
 "cells": [
  {
   "cell_type": "markdown",
   "id": "0892f657",
   "metadata": {},
   "source": [
    "# Evaluating the validity of the Capital Asset Pricing Model (CAPM)\n",
    "\n",
    "## What is the CAPM?\n",
    "It's a pricing model that aims to help determine the **excess** return of financial securities. It assumes the market is the **only** thing that affects the returns of a stock and stablishes a linear relationship between both."
   ]
  },
  {
   "cell_type": "markdown",
   "id": "1c19b12a",
   "metadata": {},
   "source": [
    "## CAPM formula\n",
    "\n",
    "Starting from the generalised asset pricing model we have:\n",
    "\n",
    "<p style='text-align: center;'>\n",
    "ER<sub>stock</sub> = α + ß<sub>stock</sub>F<sub>t</sub> + ε<sub>t</sub>\n",
    "</p>\n",
    "    \n",
    "Where:\n",
    "\n",
    "- ER<sub>stock</sub>: Expected return of a stock\n",
    "    \n",
    "- α: Intercept with y-axis. Expected return of the stock if F<sub>t</sub> = 0.\n",
    "\n",
    "- ß: Impact of F on the expected return\n",
    "\n",
    "- F<sub>t</sub>: A factor with impact on the expected return on the stock.\n",
    "\n",
    "- ε: Error term of the regression line and the data points"
   ]
  },
  {
   "cell_type": "markdown",
   "id": "00289bf3",
   "metadata": {},
   "source": [
    "Since CAPM holds that the **only** thing affecting ER<sub>stock</sub> is The Market, the factor F<sub>t</sub> becomes ER<sub>market</sub> (market returns). We are also able to get rid of α and ε since, in theory, they don't affect the stock returns.\n",
    "\n",
    "<p style='text-align: center;'>\n",
    "ER<sub>stock</sub> = ß<sub>stock</sub>(ER<sub>market</sub>)\n",
    "</p>\n",
    "\n",
    "Where:\n",
    "\n",
    "- ER<sub>market</sub>: Expected return of the **entire** market (i.e. every asset in the world). For practical purposes indexes like S&P 500, Nikkei, FTSE, etc are used."
   ]
  },
  {
   "cell_type": "markdown",
   "id": "c15a9aea",
   "metadata": {},
   "source": [
    "However CAPM doesn't look for **expected** returns, it instead looks for **excess** returns. Excess returns are the returns beyond the risk-free rate. Now we have:\n",
    "\n",
    "<p style='text-align: center;'>\n",
    "ER<sub>stock</sub> - r<sub>f</sub> = ß<sub>stock</sub>(ER<sub>market</sub> - r<sub>f</sub>) \n",
    "</p>\n",
    "    \n",
    "Where:\n",
    "\n",
    "+ r<sub>f</sub>: Risk-free rate. A rate that can be earned without risk. Usually short-term bonds issued by developed nations' treasuries. Developed nations are not expected to collapse short-term, so these bonds are considered risk \"free\".\n",
    "\n",
    "+ ER<sub>market</sub> - r<sub>f</sub>: Excess market return / Market risk premium / Excess market portfolio return.\n",
    "\n",
    "\n",
    "Then, if r<sub>f</sub> is added to both sides:\n",
    "\n",
    "<p style='text-align: center;'>\n",
    "ER<sub>stock</sub> = r<sub>f</sub> + ß<sub>stock</sub>(ER<sub>market</sub> - r<sub>f</sub>)\n",
    "</p>"
   ]
  },
  {
   "cell_type": "markdown",
   "id": "fec4da99",
   "metadata": {},
   "source": [
    "## Calculation\n",
    "\n",
    "\n",
    "A linear regression will be performed between the excess returns of a portfolio and the S&P 500, with the following considerations:\n",
    "\n",
    "<p style='text-align: center;'>\n",
    "ER<sub>portfolio</sub> - r<sub>f</sub> = ß(ER<sub>market</sub> - r<sub>f</sub>)\n",
    "</p>\n",
    "\n",
    "- ER<sub>portfolio</sub>: Daily returns of a portfolio over a 5-year period\n",
    "- ER<sub>market</sub>: Daily returns of the S&P 500 over a 5-year period\n",
    "- r<sub>f</sub>: Rates of the 3-month T-bill over a 5 year-period"
   ]
  },
  {
   "cell_type": "markdown",
   "id": "464dead1",
   "metadata": {},
   "source": [
    "## Validation\n",
    "ß assesses the impact of the excess market return on the expected return on the stock.\n",
    "If the t-stat of ß is statistically significant (>95% confidence), then the CAPM is valid.\n"
   ]
  },
  {
   "cell_type": "markdown",
   "id": "1f61aa6e",
   "metadata": {},
   "source": [
    "### Set-up"
   ]
  },
  {
   "cell_type": "code",
   "execution_count": 59,
   "id": "cff7957e",
   "metadata": {},
   "outputs": [],
   "source": [
    "import pandas as pd\n",
    "import yfinance as yf\n",
    "\n",
    "pd.set_option(\"display.max_rows\", 4)\n",
    "pd.set_option(\"display.max_columns\", 30)\n",
    "\n",
    "period = \"5y\"\n",
    "interval = \"1d\""
   ]
  },
  {
   "cell_type": "markdown",
   "id": "db904d2d",
   "metadata": {},
   "source": [
    "### Risk-free rate historical data"
   ]
  },
  {
   "cell_type": "code",
   "execution_count": 60,
   "id": "8d1e1f5b",
   "metadata": {},
   "outputs": [
    {
     "name": "stdout",
     "output_type": "stream",
     "text": [
      "[*********************100%***********************]  1 of 1 completed\n"
     ]
    }
   ],
   "source": [
    "risk_free_asset = \"^IRX\" # 3-month T-bill\n",
    "risk_free_data_backup = yf.download(risk_free_asset, period=period, interval=interval)[\"Adj Close\"]"
   ]
  },
  {
   "cell_type": "code",
   "execution_count": 61,
   "id": "13cbb7ba",
   "metadata": {},
   "outputs": [],
   "source": [
    "risk_free_data = risk_free_data_backup.copy()"
   ]
  },
  {
   "cell_type": "code",
   "execution_count": 62,
   "id": "950f90a2",
   "metadata": {},
   "outputs": [
    {
     "data": {
      "text/plain": [
       "Date\n",
       "2018-05-29    0.01840\n",
       "2018-05-30    0.01878\n",
       "               ...   \n",
       "2023-05-25    0.05163\n",
       "2023-05-26    0.05108\n",
       "Name: Risk free, Length: 1259, dtype: float64"
      ]
     },
     "execution_count": 62,
     "metadata": {},
     "output_type": "execute_result"
    }
   ],
   "source": [
    "risk_free_data.name = 'Risk free'\n",
    "risk_free_data = risk_free_data / 100\n",
    "risk_free_data"
   ]
  },
  {
   "cell_type": "markdown",
   "id": "f498531a",
   "metadata": {},
   "source": [
    "### Market's historical information"
   ]
  },
  {
   "cell_type": "code",
   "execution_count": 63,
   "id": "73a3c7a3",
   "metadata": {
    "scrolled": true
   },
   "outputs": [
    {
     "name": "stdout",
     "output_type": "stream",
     "text": [
      "[*********************100%***********************]  1 of 1 completed\n"
     ]
    },
    {
     "data": {
      "text/plain": [
       "Date\n",
       "2018-05-29    2689.860107\n",
       "2018-05-30    2724.010010\n",
       "                 ...     \n",
       "2023-05-25    4151.279785\n",
       "2023-05-26    4200.910156\n",
       "Name: Market, Length: 1259, dtype: float64"
      ]
     },
     "execution_count": 63,
     "metadata": {},
     "output_type": "execute_result"
    }
   ],
   "source": [
    "market = \"^GSPC\" #S&P 500\n",
    "\n",
    "market_data_backup = yf.download(market, period=period, interval=interval)[\"Adj Close\"]\n",
    "market_data_backup.name = \"Market\"\n",
    "market_data_backup"
   ]
  },
  {
   "cell_type": "code",
   "execution_count": 64,
   "id": "a2d7295d",
   "metadata": {},
   "outputs": [],
   "source": [
    "market_data = market_data_backup.copy()"
   ]
  },
  {
   "cell_type": "markdown",
   "id": "965f652e",
   "metadata": {},
   "source": [
    "### Market's returns"
   ]
  },
  {
   "cell_type": "markdown",
   "id": "b736166b",
   "metadata": {},
   "source": [
    "Asset returns:\n",
    "\n",
    "$$\n",
    "r_{j} = \\frac {P_{t+1}-P_t}{P_t}\\ = \\frac {P_{t+1}}{P_t}\\ - 1\n",
    "$$\n",
    "\n",
    "Where:\n",
    "- r<sub>j</sub>: Return on asset j\n",
    "- P<sub>t</sub>: Price of j at time t\n",
    "- P<sub>t+1</sub>: Price of j at time t+1"
   ]
  },
  {
   "cell_type": "code",
   "execution_count": 65,
   "id": "087972dc",
   "metadata": {},
   "outputs": [
    {
     "data": {
      "text/html": [
       "<div>\n",
       "<style scoped>\n",
       "    .dataframe tbody tr th:only-of-type {\n",
       "        vertical-align: middle;\n",
       "    }\n",
       "\n",
       "    .dataframe tbody tr th {\n",
       "        vertical-align: top;\n",
       "    }\n",
       "\n",
       "    .dataframe thead th {\n",
       "        text-align: right;\n",
       "    }\n",
       "</style>\n",
       "<table border=\"1\" class=\"dataframe\">\n",
       "  <thead>\n",
       "    <tr style=\"text-align: right;\">\n",
       "      <th></th>\n",
       "      <th>Market</th>\n",
       "      <th>Return market</th>\n",
       "    </tr>\n",
       "    <tr>\n",
       "      <th>Date</th>\n",
       "      <th></th>\n",
       "      <th></th>\n",
       "    </tr>\n",
       "  </thead>\n",
       "  <tbody>\n",
       "    <tr>\n",
       "      <th>2018-05-29</th>\n",
       "      <td>2689.860107</td>\n",
       "      <td>NaN</td>\n",
       "    </tr>\n",
       "    <tr>\n",
       "      <th>2018-05-30</th>\n",
       "      <td>2724.010010</td>\n",
       "      <td>0.012696</td>\n",
       "    </tr>\n",
       "    <tr>\n",
       "      <th>...</th>\n",
       "      <td>...</td>\n",
       "      <td>...</td>\n",
       "    </tr>\n",
       "    <tr>\n",
       "      <th>2023-05-25</th>\n",
       "      <td>4151.279785</td>\n",
       "      <td>0.008758</td>\n",
       "    </tr>\n",
       "    <tr>\n",
       "      <th>2023-05-26</th>\n",
       "      <td>4200.910156</td>\n",
       "      <td>0.011955</td>\n",
       "    </tr>\n",
       "  </tbody>\n",
       "</table>\n",
       "<p>1259 rows × 2 columns</p>\n",
       "</div>"
      ],
      "text/plain": [
       "                 Market  Return market\n",
       "Date                                  \n",
       "2018-05-29  2689.860107            NaN\n",
       "2018-05-30  2724.010010       0.012696\n",
       "...                 ...            ...\n",
       "2023-05-25  4151.279785       0.008758\n",
       "2023-05-26  4200.910156       0.011955\n",
       "\n",
       "[1259 rows x 2 columns]"
      ]
     },
     "execution_count": 65,
     "metadata": {},
     "output_type": "execute_result"
    }
   ],
   "source": [
    "market_data = market_data.to_frame()\n",
    "market_data[\"Return market\"] = market_data / market_data.shift(1) - 1\n",
    "market_data"
   ]
  },
  {
   "cell_type": "markdown",
   "id": "08330252",
   "metadata": {},
   "source": [
    "### Portfolio's historical information"
   ]
  },
  {
   "cell_type": "code",
   "execution_count": 66,
   "id": "89f43f38",
   "metadata": {},
   "outputs": [],
   "source": [
    "# example portfolio\n",
    "# ticker: weight\n",
    "portfolio = {                 \n",
    "                \"XOM\": 12, # energy\n",
    "                \"SHW\": 6, # materials\n",
    "                \"UPS\": 7, # industrial\n",
    "                \"ED\": 12, # utilities\n",
    "                \"JNJ\": 10, # healthcare\n",
    "                \"JPM\": 8, # financial sector\n",
    "                \"MCD\": 5, # consumer discretionary\n",
    "                \"PG\": 14, # # consumer staples\n",
    "                \"MSFT\": 10, # information technology\n",
    "                \"GOOG\": 8, # communications services\n",
    "                \"SPG\": 8 # real state\n",
    "            }"
   ]
  },
  {
   "cell_type": "code",
   "execution_count": 67,
   "id": "1b1f6e74",
   "metadata": {},
   "outputs": [
    {
     "name": "stdout",
     "output_type": "stream",
     "text": [
      "[*********************100%***********************]  11 of 11 completed\n"
     ]
    }
   ],
   "source": [
    "tickers = []\n",
    "\n",
    "for ticker in portfolio.keys():\n",
    "    tickers.append(ticker)\n",
    "\n",
    "portfolio_request = \" \".join(tickers)\n",
    "\n",
    "portfolio_data_backup = yf.download(portfolio_request, period=period, interval=interval)[\"Adj Close\"]"
   ]
  },
  {
   "cell_type": "code",
   "execution_count": 90,
   "id": "86f2c501",
   "metadata": {},
   "outputs": [],
   "source": [
    "portfolio_data = portfolio_data_backup.copy()"
   ]
  },
  {
   "cell_type": "markdown",
   "id": "c52465ae",
   "metadata": {},
   "source": [
    "### Porfolio's daily returns"
   ]
  },
  {
   "cell_type": "markdown",
   "id": "06bce6bf",
   "metadata": {},
   "source": [
    "The individual stocks' returns are calculated as usual. The portfolio's returns are calculated by adding the product of each stock's returns by their weights in the portfolio."
   ]
  },
  {
   "cell_type": "markdown",
   "id": "47cfdd46",
   "metadata": {},
   "source": [
    "Portfolio returns:\n",
    "\n",
    "$$\n",
    "r_{p} = \\sum r_j w_j\n",
    "$$\n",
    "\n",
    "Where:\n",
    "- r<sub>p</sub>: Return on portfolio\n",
    "- r<sub>j</sub>: Return of asset j\n",
    "- w<sub>j</sub>: Weight of asset j"
   ]
  },
  {
   "cell_type": "code",
   "execution_count": 92,
   "id": "3bff7b04",
   "metadata": {
    "scrolled": false
   },
   "outputs": [
    {
     "data": {
      "text/html": [
       "<div>\n",
       "<style scoped>\n",
       "    .dataframe tbody tr th:only-of-type {\n",
       "        vertical-align: middle;\n",
       "    }\n",
       "\n",
       "    .dataframe tbody tr th {\n",
       "        vertical-align: top;\n",
       "    }\n",
       "\n",
       "    .dataframe thead th {\n",
       "        text-align: right;\n",
       "    }\n",
       "</style>\n",
       "<table border=\"1\" class=\"dataframe\">\n",
       "  <thead>\n",
       "    <tr style=\"text-align: right;\">\n",
       "      <th></th>\n",
       "      <th>Return XOM</th>\n",
       "      <th>Return portfolio</th>\n",
       "      <th>Return SHW</th>\n",
       "      <th>Return UPS</th>\n",
       "      <th>Return ED</th>\n",
       "      <th>Return JNJ</th>\n",
       "      <th>Return JPM</th>\n",
       "      <th>Return MCD</th>\n",
       "      <th>Return PG</th>\n",
       "      <th>Return MSFT</th>\n",
       "      <th>Return GOOG</th>\n",
       "      <th>Return SPG</th>\n",
       "    </tr>\n",
       "    <tr>\n",
       "      <th>Date</th>\n",
       "      <th></th>\n",
       "      <th></th>\n",
       "      <th></th>\n",
       "      <th></th>\n",
       "      <th></th>\n",
       "      <th></th>\n",
       "      <th></th>\n",
       "      <th></th>\n",
       "      <th></th>\n",
       "      <th></th>\n",
       "      <th></th>\n",
       "      <th></th>\n",
       "    </tr>\n",
       "  </thead>\n",
       "  <tbody>\n",
       "    <tr>\n",
       "      <th>2018-05-29</th>\n",
       "      <td>NaN</td>\n",
       "      <td>NaN</td>\n",
       "      <td>NaN</td>\n",
       "      <td>NaN</td>\n",
       "      <td>NaN</td>\n",
       "      <td>NaN</td>\n",
       "      <td>NaN</td>\n",
       "      <td>NaN</td>\n",
       "      <td>NaN</td>\n",
       "      <td>NaN</td>\n",
       "      <td>NaN</td>\n",
       "      <td>NaN</td>\n",
       "    </tr>\n",
       "    <tr>\n",
       "      <th>2018-05-30</th>\n",
       "      <td>0.039276</td>\n",
       "      <td>0.014137</td>\n",
       "      <td>-0.007011</td>\n",
       "      <td>0.025125</td>\n",
       "      <td>0.004474</td>\n",
       "      <td>0.013149</td>\n",
       "      <td>0.022845</td>\n",
       "      <td>0.007471</td>\n",
       "      <td>0.011344</td>\n",
       "      <td>0.009591</td>\n",
       "      <td>0.007054</td>\n",
       "      <td>0.011518</td>\n",
       "    </tr>\n",
       "    <tr>\n",
       "      <th>2018-05-31</th>\n",
       "      <td>-0.003190</td>\n",
       "      <td>-0.006412</td>\n",
       "      <td>-0.015574</td>\n",
       "      <td>-0.004885</td>\n",
       "      <td>0.005240</td>\n",
       "      <td>-0.011160</td>\n",
       "      <td>-0.012367</td>\n",
       "      <td>-0.011185</td>\n",
       "      <td>-0.022967</td>\n",
       "      <td>-0.001112</td>\n",
       "      <td>0.016099</td>\n",
       "      <td>-0.008478</td>\n",
       "    </tr>\n",
       "    <tr>\n",
       "      <th>2018-06-01</th>\n",
       "      <td>0.007263</td>\n",
       "      <td>0.008563</td>\n",
       "      <td>0.017798</td>\n",
       "      <td>0.009731</td>\n",
       "      <td>-0.015509</td>\n",
       "      <td>0.013710</td>\n",
       "      <td>0.012989</td>\n",
       "      <td>0.001006</td>\n",
       "      <td>0.003827</td>\n",
       "      <td>0.019729</td>\n",
       "      <td>0.031807</td>\n",
       "      <td>0.003620</td>\n",
       "    </tr>\n",
       "    <tr>\n",
       "      <th>2018-06-04</th>\n",
       "      <td>-0.010510</td>\n",
       "      <td>0.003290</td>\n",
       "      <td>0.002202</td>\n",
       "      <td>-0.002388</td>\n",
       "      <td>-0.007811</td>\n",
       "      <td>0.005690</td>\n",
       "      <td>0.000461</td>\n",
       "      <td>0.006660</td>\n",
       "      <td>0.009938</td>\n",
       "      <td>0.008731</td>\n",
       "      <td>0.017678</td>\n",
       "      <td>0.011318</td>\n",
       "    </tr>\n",
       "    <tr>\n",
       "      <th>...</th>\n",
       "      <td>...</td>\n",
       "      <td>...</td>\n",
       "      <td>...</td>\n",
       "      <td>...</td>\n",
       "      <td>...</td>\n",
       "      <td>...</td>\n",
       "      <td>...</td>\n",
       "      <td>...</td>\n",
       "      <td>...</td>\n",
       "      <td>...</td>\n",
       "      <td>...</td>\n",
       "      <td>...</td>\n",
       "    </tr>\n",
       "    <tr>\n",
       "      <th>2023-05-22</th>\n",
       "      <td>-0.012140</td>\n",
       "      <td>-0.005300</td>\n",
       "      <td>-0.009151</td>\n",
       "      <td>0.003393</td>\n",
       "      <td>-0.005673</td>\n",
       "      <td>-0.005389</td>\n",
       "      <td>-0.008263</td>\n",
       "      <td>-0.020978</td>\n",
       "      <td>-0.026180</td>\n",
       "      <td>0.008921</td>\n",
       "      <td>0.021258</td>\n",
       "      <td>0.005885</td>\n",
       "    </tr>\n",
       "    <tr>\n",
       "      <th>2023-05-23</th>\n",
       "      <td>0.013623</td>\n",
       "      <td>-0.008756</td>\n",
       "      <td>-0.015565</td>\n",
       "      <td>-0.010029</td>\n",
       "      <td>-0.008135</td>\n",
       "      <td>-0.000382</td>\n",
       "      <td>-0.010433</td>\n",
       "      <td>-0.010299</td>\n",
       "      <td>-0.010794</td>\n",
       "      <td>-0.018432</td>\n",
       "      <td>-0.020497</td>\n",
       "      <td>-0.017456</td>\n",
       "    </tr>\n",
       "    <tr>\n",
       "      <th>2023-05-24</th>\n",
       "      <td>0.011184</td>\n",
       "      <td>-0.004635</td>\n",
       "      <td>0.007619</td>\n",
       "      <td>-0.012191</td>\n",
       "      <td>-0.004048</td>\n",
       "      <td>-0.000957</td>\n",
       "      <td>-0.009151</td>\n",
       "      <td>-0.001571</td>\n",
       "      <td>-0.008268</td>\n",
       "      <td>-0.004473</td>\n",
       "      <td>-0.013383</td>\n",
       "      <td>-0.018919</td>\n",
       "    </tr>\n",
       "    <tr>\n",
       "      <th>2023-05-25</th>\n",
       "      <td>-0.017938</td>\n",
       "      <td>0.001063</td>\n",
       "      <td>-0.009922</td>\n",
       "      <td>0.020928</td>\n",
       "      <td>-0.002995</td>\n",
       "      <td>-0.014362</td>\n",
       "      <td>0.002438</td>\n",
       "      <td>-0.001399</td>\n",
       "      <td>-0.006424</td>\n",
       "      <td>0.038458</td>\n",
       "      <td>0.022279</td>\n",
       "      <td>-0.008908</td>\n",
       "    </tr>\n",
       "    <tr>\n",
       "      <th>2023-05-26</th>\n",
       "      <td>-0.006814</td>\n",
       "      <td>0.003590</td>\n",
       "      <td>0.009812</td>\n",
       "      <td>0.004614</td>\n",
       "      <td>-0.004023</td>\n",
       "      <td>0.000777</td>\n",
       "      <td>0.012677</td>\n",
       "      <td>0.002837</td>\n",
       "      <td>-0.001948</td>\n",
       "      <td>0.018501</td>\n",
       "      <td>0.008766</td>\n",
       "      <td>0.005827</td>\n",
       "    </tr>\n",
       "  </tbody>\n",
       "</table>\n",
       "<p>1259 rows × 12 columns</p>\n",
       "</div>"
      ],
      "text/plain": [
       "            Return XOM  Return portfolio  Return SHW  Return UPS  Return ED  \\\n",
       "Date                                                                          \n",
       "2018-05-29         NaN               NaN         NaN         NaN        NaN   \n",
       "2018-05-30    0.039276          0.014137   -0.007011    0.025125   0.004474   \n",
       "2018-05-31   -0.003190         -0.006412   -0.015574   -0.004885   0.005240   \n",
       "2018-06-01    0.007263          0.008563    0.017798    0.009731  -0.015509   \n",
       "2018-06-04   -0.010510          0.003290    0.002202   -0.002388  -0.007811   \n",
       "...                ...               ...         ...         ...        ...   \n",
       "2023-05-22   -0.012140         -0.005300   -0.009151    0.003393  -0.005673   \n",
       "2023-05-23    0.013623         -0.008756   -0.015565   -0.010029  -0.008135   \n",
       "2023-05-24    0.011184         -0.004635    0.007619   -0.012191  -0.004048   \n",
       "2023-05-25   -0.017938          0.001063   -0.009922    0.020928  -0.002995   \n",
       "2023-05-26   -0.006814          0.003590    0.009812    0.004614  -0.004023   \n",
       "\n",
       "            Return JNJ  Return JPM  Return MCD  Return PG  Return MSFT  \\\n",
       "Date                                                                     \n",
       "2018-05-29         NaN         NaN         NaN        NaN          NaN   \n",
       "2018-05-30    0.013149    0.022845    0.007471   0.011344     0.009591   \n",
       "2018-05-31   -0.011160   -0.012367   -0.011185  -0.022967    -0.001112   \n",
       "2018-06-01    0.013710    0.012989    0.001006   0.003827     0.019729   \n",
       "2018-06-04    0.005690    0.000461    0.006660   0.009938     0.008731   \n",
       "...                ...         ...         ...        ...          ...   \n",
       "2023-05-22   -0.005389   -0.008263   -0.020978  -0.026180     0.008921   \n",
       "2023-05-23   -0.000382   -0.010433   -0.010299  -0.010794    -0.018432   \n",
       "2023-05-24   -0.000957   -0.009151   -0.001571  -0.008268    -0.004473   \n",
       "2023-05-25   -0.014362    0.002438   -0.001399  -0.006424     0.038458   \n",
       "2023-05-26    0.000777    0.012677    0.002837  -0.001948     0.018501   \n",
       "\n",
       "            Return GOOG  Return SPG  \n",
       "Date                                 \n",
       "2018-05-29          NaN         NaN  \n",
       "2018-05-30     0.007054    0.011518  \n",
       "2018-05-31     0.016099   -0.008478  \n",
       "2018-06-01     0.031807    0.003620  \n",
       "2018-06-04     0.017678    0.011318  \n",
       "...                 ...         ...  \n",
       "2023-05-22     0.021258    0.005885  \n",
       "2023-05-23    -0.020497   -0.017456  \n",
       "2023-05-24    -0.013383   -0.018919  \n",
       "2023-05-25     0.022279   -0.008908  \n",
       "2023-05-26     0.008766    0.005827  \n",
       "\n",
       "[1259 rows x 12 columns]"
      ]
     },
     "execution_count": 92,
     "metadata": {},
     "output_type": "execute_result"
    }
   ],
   "source": [
    "portfolio_data[\"Return portfolio\"] = 0\n",
    "for ticker in tickers:\n",
    "    portfolio_data[\"Return \" + ticker] = portfolio_data[ticker] / portfolio_data[ticker].shift(1) - 1\n",
    "    portfolio_data[\"Return portfolio\"] += portfolio_data[\"Return \" + ticker] * portfolio[ticker] / 100\n",
    "    \n",
    "portfolio_data.iloc[:, len(tickers):]"
   ]
  },
  {
   "cell_type": "markdown",
   "id": "4807b29d",
   "metadata": {},
   "source": [
    "### Calculate excess returns"
   ]
  },
  {
   "cell_type": "markdown",
   "id": "389182fc",
   "metadata": {},
   "source": [
    "<p style='text-align: center;'>\n",
    "er<sub>j</sub> = r<sub>j</sub> - r<sub>f</sub>\n",
    "</p>\n",
    "\n",
    "Where:\n",
    "+ er<sub>j</sub>: Excess return of commodity j\n",
    "+ r<sub>j</sub>: Return of commodity j\n",
    "+ r<sub>j</sub>: Risk-free rate of return"
   ]
  },
  {
   "cell_type": "code",
   "execution_count": 70,
   "id": "dbeb3dce",
   "metadata": {},
   "outputs": [
    {
     "data": {
      "text/html": [
       "<div>\n",
       "<style scoped>\n",
       "    .dataframe tbody tr th:only-of-type {\n",
       "        vertical-align: middle;\n",
       "    }\n",
       "\n",
       "    .dataframe tbody tr th {\n",
       "        vertical-align: top;\n",
       "    }\n",
       "\n",
       "    .dataframe thead th {\n",
       "        text-align: right;\n",
       "    }\n",
       "</style>\n",
       "<table border=\"1\" class=\"dataframe\">\n",
       "  <thead>\n",
       "    <tr style=\"text-align: right;\">\n",
       "      <th></th>\n",
       "      <th>Risk free</th>\n",
       "      <th>Return market</th>\n",
       "      <th>Return portfolio</th>\n",
       "      <th>Excess market</th>\n",
       "      <th>Excess portfolio</th>\n",
       "    </tr>\n",
       "    <tr>\n",
       "      <th>Date</th>\n",
       "      <th></th>\n",
       "      <th></th>\n",
       "      <th></th>\n",
       "      <th></th>\n",
       "      <th></th>\n",
       "    </tr>\n",
       "  </thead>\n",
       "  <tbody>\n",
       "    <tr>\n",
       "      <th>2018-05-30</th>\n",
       "      <td>0.01878</td>\n",
       "      <td>0.012696</td>\n",
       "      <td>0.014137</td>\n",
       "      <td>-0.006084</td>\n",
       "      <td>-0.004643</td>\n",
       "    </tr>\n",
       "    <tr>\n",
       "      <th>2018-05-31</th>\n",
       "      <td>0.01870</td>\n",
       "      <td>-0.006880</td>\n",
       "      <td>-0.006412</td>\n",
       "      <td>-0.025580</td>\n",
       "      <td>-0.025112</td>\n",
       "    </tr>\n",
       "    <tr>\n",
       "      <th>...</th>\n",
       "      <td>...</td>\n",
       "      <td>...</td>\n",
       "      <td>...</td>\n",
       "      <td>...</td>\n",
       "      <td>...</td>\n",
       "    </tr>\n",
       "    <tr>\n",
       "      <th>2023-05-25</th>\n",
       "      <td>0.05163</td>\n",
       "      <td>0.008758</td>\n",
       "      <td>0.001063</td>\n",
       "      <td>-0.042872</td>\n",
       "      <td>-0.050567</td>\n",
       "    </tr>\n",
       "    <tr>\n",
       "      <th>2023-05-26</th>\n",
       "      <td>0.05108</td>\n",
       "      <td>0.011955</td>\n",
       "      <td>0.003590</td>\n",
       "      <td>-0.039125</td>\n",
       "      <td>-0.047490</td>\n",
       "    </tr>\n",
       "  </tbody>\n",
       "</table>\n",
       "<p>1258 rows × 5 columns</p>\n",
       "</div>"
      ],
      "text/plain": [
       "            Risk free  Return market  Return portfolio  Excess market  \\\n",
       "Date                                                                    \n",
       "2018-05-30    0.01878       0.012696          0.014137      -0.006084   \n",
       "2018-05-31    0.01870      -0.006880         -0.006412      -0.025580   \n",
       "...               ...            ...               ...            ...   \n",
       "2023-05-25    0.05163       0.008758          0.001063      -0.042872   \n",
       "2023-05-26    0.05108       0.011955          0.003590      -0.039125   \n",
       "\n",
       "            Excess portfolio  \n",
       "Date                          \n",
       "2018-05-30         -0.004643  \n",
       "2018-05-31         -0.025112  \n",
       "...                      ...  \n",
       "2023-05-25         -0.050567  \n",
       "2023-05-26         -0.047490  \n",
       "\n",
       "[1258 rows x 5 columns]"
      ]
     },
     "execution_count": 70,
     "metadata": {},
     "output_type": "execute_result"
    }
   ],
   "source": [
    "data = pd.merge(risk_free_data, market_data[\"Return market\"],\n",
    "               left_index = True,\n",
    "               right_index = True)\n",
    "\n",
    "data = data.merge(portfolio_data[\"Return portfolio\"],\n",
    "               left_index = True,\n",
    "               right_index = True)\n",
    "\n",
    "data = data.iloc[1:, :]\n",
    "\n",
    "data[\"Excess market\"] = data[\"Return market\"] - data[\"Risk free\"]\n",
    "data[\"Excess portfolio\"] = data[\"Return portfolio\"] - data[\"Risk free\"]\n",
    "\n",
    "data"
   ]
  },
  {
   "cell_type": "markdown",
   "id": "d7ff1079",
   "metadata": {},
   "source": [
    "### Plot the data"
   ]
  },
  {
   "cell_type": "code",
   "execution_count": 71,
   "id": "44787f94",
   "metadata": {},
   "outputs": [],
   "source": [
    "import matplotlib.pyplot as plt"
   ]
  },
  {
   "cell_type": "code",
   "execution_count": 72,
   "id": "23e46d58",
   "metadata": {},
   "outputs": [
    {
     "data": {
      "text/plain": [
       "<matplotlib.lines.Line2D at 0x122d5f34670>"
      ]
     },
     "execution_count": 72,
     "metadata": {},
     "output_type": "execute_result"
    },
    {
     "data": {
      "image/png": "[encoded data removed]",
      "text/plain": [
       "<Figure size 640x480 with 1 Axes>"
      ]
     },
     "metadata": {},
     "output_type": "display_data"
    }
   ],
   "source": [
    "x = data[\"Excess market\"]\n",
    "y = data[\"Excess portfolio\"]\n",
    "\n",
    "fig, ax = plt.subplots()\n",
    "\n",
    "ax.plot(x, y, 'o')\n",
    "\n",
    "# Aesthetics\n",
    "ax.set_xlabel(\"Excess Market\")\n",
    "ax.set_ylabel(\"Excess portfolio\")\n",
    "\n",
    "ax.axhline(0, color='black', linewidth=.5)\n",
    "ax.axvline(0, color='black', linewidth=.5)"
   ]
  },
  {
   "cell_type": "markdown",
   "id": "ec689bf3",
   "metadata": {},
   "source": [
    "### Calculate intercept and slope of regression line"
   ]
  },
  {
   "cell_type": "markdown",
   "id": "6023f1a2",
   "metadata": {},
   "source": [
    "<!-- https://towardsdatascience.com/linear-regression-by-hand-ee7fe5a751bf -->\n",
    "\n",
    "$$\n",
    "m = \\frac{n(\\sum xy)-(\\sum x)(\\sum y)}{n(\\sum x^2)-(\\sum x)^2}\\\n",
    "$$\n",
    " \n",
    " \n",
    "$$\n",
    "b = \\frac{\\sum y - m(\\sum x)}{n}\\\n",
    "$$\n"
   ]
  },
  {
   "cell_type": "code",
   "execution_count": 73,
   "id": "e54bdce6",
   "metadata": {},
   "outputs": [],
   "source": [
    "sum_x = x.sum()\n",
    "sum_y = y.sum()\n",
    "sum_xy = (x * y).sum()\n",
    "sum_xx = (x * x).sum()\n",
    "sum_yy = (y * y).sum()\n",
    "n = len(data)\n",
    "\n",
    "# regression line equation\n",
    "m = (n * sum_xy - sum_x * sum_y) / (n * sum_xx - sum_x ** 2) # slope, x coefficient\n",
    "b = (sum_y - m * sum_x) / (n) # y-intercept, constant coefficient\n",
    "\n",
    "data[\"Expected\"] = (b + m * data[\"Excess market\"])\n",
    "data[\"Error\"] = data[\"Excess portfolio\"] - data[\"Expected\"]"
   ]
  },
  {
   "cell_type": "code",
   "execution_count": 74,
   "id": "f60592d6",
   "metadata": {
    "scrolled": false
   },
   "outputs": [
    {
     "data": {
      "image/png": "[encoded data removed]",
      "text/plain": [
       "<Figure size 640x480 with 1 Axes>"
      ]
     },
     "execution_count": 74,
     "metadata": {},
     "output_type": "execute_result"
    }
   ],
   "source": [
    "ax.plot(x, data[\"Expected\"])\n",
    "fig"
   ]
  },
  {
   "cell_type": "markdown",
   "id": "ac686e5f",
   "metadata": {},
   "source": [
    "### Pearson correlation coefficient"
   ]
  },
  {
   "cell_type": "markdown",
   "id": "94c9328d",
   "metadata": {},
   "source": [
    "<!-- https://towardsdatascience.com/linear-regression-by-hand-ee7fe5a751bf -->\n",
    "\n",
    "$$\n",
    "r = \\frac {n(\\sum xy) - (\\sum x)(\\sum y)}\n",
    "            {\\sqrt{n\\sum x^2-(\\sum x)^2} * \\sqrt{n\\sum y^2 - (\\sum y)^2}}\n",
    "$$\n",
    "\n"
   ]
  },
  {
   "cell_type": "code",
   "execution_count": 75,
   "id": "ef521e9e",
   "metadata": {},
   "outputs": [],
   "source": [
    "# Pearson correlation coefficient (are variables related?)\n",
    "r = (n * sum_xy - sum_x * sum_y) / (n * sum_xx - sum_x**2)**0.5 / (n * sum_yy - sum_y**2)**0.5    "
   ]
  },
  {
   "cell_type": "code",
   "execution_count": 76,
   "id": "d70140a6",
   "metadata": {},
   "outputs": [
    {
     "name": "stdout",
     "output_type": "stream",
     "text": [
      "r = 0.971\n",
      "This value of r shows that the portfolio's and the market's returns are directly and strongly related\n"
     ]
    }
   ],
   "source": [
    "def evaluate_r(r):\n",
    "    if r == 0:\n",
    "        msg = f\"An r of 0 indicates that {stock}'s and the market's returns are randomly related\"\n",
    "        return msg\n",
    "    \n",
    "    if r < 0:\n",
    "        direction = \"inversely\"\n",
    "    else:\n",
    "        direction = \"directly\"\n",
    "    \n",
    "    if abs(r) > 0.8:\n",
    "        strength = \"strongly\"\n",
    "    elif abs(r) > 0.5:\n",
    "        strength = \"moderately\"    \n",
    "    else:\n",
    "        strength = \"weakly\"\n",
    "        \n",
    "    msg = f\"r = {round(r, 3)}\\nThis value of r shows that the portfolio's and the market's returns are {direction} and {strength} related\"\n",
    "    \n",
    "    return msg\n",
    "\n",
    "print(evaluate_r(r))"
   ]
  },
  {
   "cell_type": "markdown",
   "id": "fcf6a838",
   "metadata": {},
   "source": [
    "### Coefficient of Determination - R<sup>2</sup>"
   ]
  },
  {
   "cell_type": "markdown",
   "id": "4f51c99c",
   "metadata": {},
   "source": [
    "<!--https://www.ncl.ac.uk/webtemplate/ask-assets/external/maths-resources/statistics/regression-and-correlation/coefficient-of-determination-r-squared.html#:~:text=%C2%AFy)2.-,R%202%20%3D%201%20%E2%88%92%20sum%20squared%20regression%20(SSR)%20total,from%20the%20mean%20all%20squared.-->\n",
    "\n",
    "$$\n",
    "R^2 = 1 - \\frac{\\sum (y_i - \\hat{y})^2}\n",
    "                {\\sum(y_i - \\bar{y})^2}\n",
    "$$"
   ]
  },
  {
   "cell_type": "code",
   "execution_count": 77,
   "id": "2b0825f7",
   "metadata": {},
   "outputs": [],
   "source": [
    "# Coefficient of determination (R^2) (is the model good?)\n",
    "R_sqrd = 1 - (data[\"Error\"]**2).sum() / ((y - y.mean())**2).sum()"
   ]
  },
  {
   "cell_type": "code",
   "execution_count": 78,
   "id": "c6a1920b",
   "metadata": {},
   "outputs": [
    {
     "name": "stdout",
     "output_type": "stream",
     "text": [
      "r^2 = 0.942\n",
      "This value of r^2 shows that the model has a great fit with the data. It explains 94% of the variability observed in the portfolio.\n"
     ]
    }
   ],
   "source": [
    "def evaluate_r_sqrd(r_squared):\n",
    "    if r_squared < 0.5:\n",
    "        fit = \"poor\"\n",
    "    elif r_squared < 0.7:\n",
    "        fit = \"moderate\"\n",
    "    else:\n",
    "        fit = \"great\"\n",
    "    \n",
    "    msg = f\"r^2 = {round(r_squared, 3)}\\nThis value of r^2 shows that the model has a {fit} fit with the data. It explains {round(r_squared*100)}% of the variability observed in the portfolio.\"\n",
    "    \n",
    "    return msg\n",
    "\n",
    "print(evaluate_r_sqrd(R_sqrd))"
   ]
  },
  {
   "cell_type": "markdown",
   "id": "82b63595",
   "metadata": {},
   "source": [
    "### Standard Error"
   ]
  },
  {
   "cell_type": "markdown",
   "id": "1311fbc2",
   "metadata": {},
   "source": [
    "$$\n",
    "SE(b_0) = \\sqrt{\\frac{\\sum (y_i-\\hat y)^2}\n",
    "                    {n-2}}\n",
    "            * \\sqrt{\\frac{1}{n}+\\frac{(\\bar x)^2}{\\sum(x_i-\\bar x)^2}}\n",
    "$$"
   ]
  },
  {
   "cell_type": "markdown",
   "id": "a57d8243",
   "metadata": {},
   "source": [
    "$$\n",
    "SE(b_1) = \\sqrt{\n",
    "                \\frac{\\sum (y_i-\\hat y)^2}{n-2}\n",
    "            }\n",
    "        * \\sqrt{\n",
    "                \\frac{1}{\\sum (x_i- \\bar x)^2}\n",
    "        }\n",
    "$$"
   ]
  },
  {
   "cell_type": "code",
   "execution_count": 79,
   "id": "94213ed4",
   "metadata": {},
   "outputs": [],
   "source": [
    "sum_sqrd_dev_x = ((x - x.mean())**2).sum()\n",
    "\n",
    "sum_sqrd_err = (data[\"Error\"]**2).sum()\n",
    "std_dev_err = (sum_sqrd_err / (n-2))**0.5\n",
    "\n",
    "std_err_const = std_dev_err * (1/n + x.mean()**2 / sum_sqrd_dev_x)**0.5\n",
    "std_err_slope = std_dev_err * (1/sum_sqrd_dev_x)**0.5"
   ]
  },
  {
   "cell_type": "markdown",
   "id": "51e200fd",
   "metadata": {},
   "source": [
    "### t-statistics and p-values"
   ]
  },
  {
   "cell_type": "markdown",
   "id": "683182c5",
   "metadata": {},
   "source": [
    "$$\n",
    "t(b_i) = \\frac {b_i}{SE(i)}\n",
    "$$"
   ]
  },
  {
   "cell_type": "code",
   "execution_count": 80,
   "id": "e7569f46",
   "metadata": {},
   "outputs": [],
   "source": [
    "t_const = b / std_err_const\n",
    "t_slope = m / std_err_slope"
   ]
  },
  {
   "cell_type": "code",
   "execution_count": 81,
   "id": "9270e216",
   "metadata": {},
   "outputs": [],
   "source": [
    "import scipy.stats\n",
    "p_const = scipy.stats.t.sf(abs(t_const), df=n-1)*2\n",
    "p_slope = scipy.stats.t.sf(abs(t_slope), df=n-1)*2"
   ]
  },
  {
   "cell_type": "code",
   "execution_count": 82,
   "id": "b2f27f89",
   "metadata": {},
   "outputs": [
    {
     "name": "stdout",
     "output_type": "stream",
     "text": [
      "p-val = 0.0\n",
      "With a 95% level of confidence, the p value indicates that the ß coefficient is relevant\n"
     ]
    }
   ],
   "source": [
    "def evaluate_p(p, confidence):\n",
    "\n",
    "    if p < 1-confidence/100:\n",
    "        relevant = \"is \"\n",
    "    else:\n",
    "        relevant = \"is not \"\n",
    "        \n",
    "    msg = f\"p-val = {p}\\nWith a {confidence}% level of confidence, the p value indicates that the ß coefficient {relevant}relevant\"\n",
    "    \n",
    "    return msg\n",
    "\n",
    "print(evaluate_p(p_slope, 95))"
   ]
  },
  {
   "cell_type": "markdown",
   "id": "2a2fb5e8",
   "metadata": {},
   "source": [
    "### Summary"
   ]
  },
  {
   "cell_type": "code",
   "execution_count": 83,
   "id": "756d080f",
   "metadata": {},
   "outputs": [
    {
     "data": {
      "text/html": [
       "<div>\n",
       "<style scoped>\n",
       "    .dataframe tbody tr th:only-of-type {\n",
       "        vertical-align: middle;\n",
       "    }\n",
       "\n",
       "    .dataframe tbody tr th {\n",
       "        vertical-align: top;\n",
       "    }\n",
       "\n",
       "    .dataframe thead th {\n",
       "        text-align: right;\n",
       "    }\n",
       "</style>\n",
       "<table border=\"1\" class=\"dataframe\">\n",
       "  <thead>\n",
       "    <tr style=\"text-align: right;\">\n",
       "      <th></th>\n",
       "      <th>coef</th>\n",
       "      <th>std err</th>\n",
       "      <th>t</th>\n",
       "      <th>p-val</th>\n",
       "    </tr>\n",
       "  </thead>\n",
       "  <tbody>\n",
       "    <tr>\n",
       "      <th>const</th>\n",
       "      <td>-0.000767</td>\n",
       "      <td>0.000163</td>\n",
       "      <td>-4.703084</td>\n",
       "      <td>0.000003</td>\n",
       "    </tr>\n",
       "    <tr>\n",
       "      <th>Excess Market</th>\n",
       "      <td>0.934059</td>\n",
       "      <td>0.006512</td>\n",
       "      <td>143.426419</td>\n",
       "      <td>0.000000</td>\n",
       "    </tr>\n",
       "  </tbody>\n",
       "</table>\n",
       "</div>"
      ],
      "text/plain": [
       "                   coef   std err           t     p-val\n",
       "const         -0.000767  0.000163   -4.703084  0.000003\n",
       "Excess Market  0.934059  0.006512  143.426419  0.000000"
      ]
     },
     "execution_count": 83,
     "metadata": {},
     "output_type": "execute_result"
    }
   ],
   "source": [
    "import numpy as np\n",
    "\n",
    "columns = [\"coef\", \"std err\", \"t\", \"p-val\"]\n",
    "rows = [\"const\", \"Excess Market\"]\n",
    "\n",
    "const_values = [b, std_err_const, t_const, p_const]\n",
    "market_values = [m, std_err_slope, t_slope, p_slope]\n",
    "\n",
    "summary = pd.DataFrame(np.array([const_values, market_values]),\n",
    "                   columns=columns, index=rows)\n",
    "\n",
    "summary"
   ]
  },
  {
   "cell_type": "markdown",
   "id": "8a9d6b18",
   "metadata": {},
   "source": [
    "### Using an statistical tool"
   ]
  },
  {
   "cell_type": "code",
   "execution_count": 84,
   "id": "555c21f6",
   "metadata": {
    "scrolled": false
   },
   "outputs": [
    {
     "name": "stdout",
     "output_type": "stream",
     "text": [
      "                            OLS Regression Results                            \n",
      "==============================================================================\n",
      "Dep. Variable:       Excess portfolio   R-squared:                       0.942\n",
      "Model:                            OLS   Adj. R-squared:                  0.942\n",
      "Method:                 Least Squares   F-statistic:                 2.057e+04\n",
      "Date:                Fri, 26 May 2023   Prob (F-statistic):               0.00\n",
      "Time:                        12:58:38   Log-Likelihood:                 4962.1\n",
      "No. Observations:                1258   AIC:                            -9920.\n",
      "Df Residuals:                    1256   BIC:                            -9910.\n",
      "Df Model:                           1                                         \n",
      "Covariance Type:            nonrobust                                         \n",
      "=================================================================================\n",
      "                    coef    std err          t      P>|t|      [0.025      0.975]\n",
      "---------------------------------------------------------------------------------\n",
      "const            -0.0008      0.000     -4.703      0.000      -0.001      -0.000\n",
      "Excess market     0.9341      0.007    143.426      0.000       0.921       0.947\n",
      "==============================================================================\n",
      "Omnibus:                       76.541   Durbin-Watson:                   1.927\n",
      "Prob(Omnibus):                  0.000   Jarque-Bera (JB):              188.625\n",
      "Skew:                           0.336   Prob(JB):                     1.10e-41\n",
      "Kurtosis:                       4.774   Cond. No.                         49.3\n",
      "==============================================================================\n",
      "\n",
      "Notes:\n",
      "[1] Standard Errors assume that the covariance matrix of the errors is correctly specified.\n"
     ]
    }
   ],
   "source": [
    "import statsmodels.api as sm\n",
    "\n",
    "sm_y = y\n",
    "sm_x = x\n",
    "sm_x = sm.add_constant(sm_x)\n",
    "\n",
    "model = sm.OLS(sm_y, sm_x)\n",
    "result = model.fit()\n",
    "print(result.summary())"
   ]
  },
  {
   "cell_type": "markdown",
   "id": "2f46407b",
   "metadata": {},
   "source": [
    "### Validation"
   ]
  },
  {
   "cell_type": "code",
   "execution_count": 85,
   "id": "6d8ddfa9",
   "metadata": {},
   "outputs": [
    {
     "name": "stdout",
     "output_type": "stream",
     "text": [
      "With a p-value of 0.0, the coefficient (ß) of the Excess Market is statistically valid. The CAPM is valid for this portfolio.\n"
     ]
    }
   ],
   "source": [
    "def validate(confidence):\n",
    "    p_slope = summary[\"p-val\"][\"Excess Market\"]\n",
    "    if p_slope < 1-confidence:\n",
    "        valid = \"is \"\n",
    "    else:\n",
    "        valid = \"is not \"\n",
    "    \n",
    "    return (f\"With a p-value of {round(p_slope, 3)}, the coefficient (ß) of the Excess Market {valid}statistically valid. The CAPM {valid}valid for this portfolio.\")\n",
    "\n",
    "print(validate(0.95))"
   ]
  }
 ],
 "metadata": {
  "kernelspec": {
   "display_name": "Python 3",
   "language": "python",
   "name": "python3"
  },
  "language_info": {
   "codemirror_mode": {
    "name": "ipython",
    "version": 3
   },
   "file_extension": ".py",
   "mimetype": "text/x-python",
   "name": "python",
   "nbconvert_exporter": "python",
   "pygments_lexer": "ipython3",
   "version": "3.9.13"
  }
 },
 "nbformat": 4,
 "nbformat_minor": 5
}
